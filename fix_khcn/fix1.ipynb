{
 "cells": [
  {
   "cell_type": "code",
   "execution_count": 17,
   "metadata": {},
   "outputs": [],
   "source": [
    "import json\n",
    "\n",
    "def getUpper(s):\n",
    "    check = False\n",
    "    lenght = len(s)\n",
    "    for i in range(lenght):\n",
    "        if s[i].isnumeric():\n",
    "            check = True\n",
    "        if check and s[i].isupper():\n",
    "            return i\n",
    "\n",
    "with open('CoEn_khcn.json', 'r', encoding='utf-8') as file:\n",
    "    data = json.load(file)\n",
    "\n",
    "for item in data:\n",
    "    if 'id' in item:\n",
    "        item['id'] = item['id'].replace('\\n', '').replace('\\r', '')\n",
    "\n",
    "# Lặp qua danh sách tài liệu và thực hiện thay thế\n",
    "for document in data:\n",
    "    if document['content'] != \"None\":\n",
    "        for chapter in document['content']:\n",
    "            for section in chapter['content_Chapter']:\n",
    "                for article in section['content_Section']:\n",
    "                    title = article[\"title_Article\"]\n",
    "                    content = article['content_Article']\n",
    "                    if content == \"\":\n",
    "                        article[\"title_Article\"] = title[:getUpper(title)]\n",
    "                        article['content_Article'] = title[getUpper(title):]\n",
    "\n",
    "\n",
    "with open('CoEn_khcn_1.json', 'w', encoding='utf-8') as file:\n",
    "    json.dump(data, file, ensure_ascii=False, indent=2)\n"
   ]
  },
  {
   "cell_type": "code",
   "execution_count": 18,
   "metadata": {},
   "outputs": [],
   "source": [
    "import json\n",
    "\n",
    "# Đọc file JSON\n",
    "with open('CoEn_khcn_1.json', 'r', encoding='utf-8') as file:\n",
    "    data = json.load(file)\n",
    "\n",
    "new_json = []\n",
    "# In ra các item có trường \"id\" không bắt đầu bằng \"Số:\"\n",
    "for item in data:\n",
    "    if item['id'] == \"\":\n",
    "        new_json.append(item)\n",
    "\n",
    "with open('CoEn_khcn_lack_id.json', 'w', encoding='utf-8') as file:\n",
    "    json.dump(new_json, file, ensure_ascii=False, indent=2)"
   ]
  },
  {
   "cell_type": "code",
   "execution_count": 19,
   "metadata": {},
   "outputs": [
    {
     "name": "stdout",
     "output_type": "stream",
     "text": [
      "Số:43 QĐ-TĐC\n"
     ]
    }
   ],
   "source": [
    "import json\n",
    "\n",
    "with open('CoEn_khcn.json', 'r', encoding='utf-8') as file:\n",
    "    data = json.load(file)\n",
    "\n",
    "for item in data:\n",
    "    if ' ' in item[\"id\"]:\n",
    "        print(item[\"id\"])"
   ]
  },
  {
   "cell_type": "code",
   "execution_count": null,
   "metadata": {},
   "outputs": [],
   "source": []
  }
 ],
 "metadata": {
  "kernelspec": {
   "display_name": "Python 3",
   "language": "python",
   "name": "python3"
  },
  "language_info": {
   "codemirror_mode": {
    "name": "ipython",
    "version": 3
   },
   "file_extension": ".py",
   "mimetype": "text/x-python",
   "name": "python",
   "nbconvert_exporter": "python",
   "pygments_lexer": "ipython3",
   "version": "3.10.6"
  }
 },
 "nbformat": 4,
 "nbformat_minor": 2
}
